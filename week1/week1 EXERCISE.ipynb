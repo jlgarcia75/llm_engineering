{
 "cells": [
  {
   "cell_type": "markdown",
   "id": "fe12c203-e6a6-452c-a655-afb8a03a4ff5",
   "metadata": {},
   "source": [
    "# End of week 1 exercise\n",
    "\n",
    "To demonstrate your familiarity with OpenAI API, and also Ollama, build a tool that takes a technical question,  \n",
    "and responds with an explanation. This is a tool that you will be able to use yourself during the course!"
   ]
  },
  {
   "cell_type": "code",
   "execution_count": 1,
   "id": "c1070317-3ed9-4659-abe3-828943230e03",
   "metadata": {},
   "outputs": [],
   "source": [
    "# imports\n",
    "import os\n",
    "import requests\n",
    "import json\n",
    "from typing import List\n",
    "from dotenv import load_dotenv\n",
    "from IPython.display import Markdown, display, update_display\n",
    "from openai import OpenAI"
   ]
  },
  {
   "cell_type": "code",
   "execution_count": 2,
   "id": "4a456906-915a-4bfd-bb9d-57e505c5093f",
   "metadata": {},
   "outputs": [],
   "source": [
    "# constants\n",
    "\n",
    "MODEL_GPT = 'gpt-4o-mini'\n",
    "MODEL_LLAMA = 'llama3.2'"
   ]
  },
  {
   "cell_type": "code",
   "execution_count": 3,
   "id": "a8d7923c-5f28-4c30-8556-342d7c8497c1",
   "metadata": {},
   "outputs": [
    {
     "name": "stdout",
     "output_type": "stream",
     "text": [
      "API key looks good so far\n"
     ]
    }
   ],
   "source": [
    "# set up environment\n",
    "load_dotenv(override=True)\n",
    "api_key = os.getenv('OPENAI_API_KEY')\n",
    "\n",
    "if api_key and api_key.startswith('sk-proj-') and len(api_key)>10:\n",
    "    print(\"API key looks good so far\")\n",
    "else:\n",
    "    print(\"There might be a problem with your API key? Please visit the troubleshooting notebook!\")\n",
    "    \n",
    "MODEL = 'gpt-4o-mini'\n",
    "openai = OpenAI()"
   ]
  },
  {
   "cell_type": "code",
   "execution_count": 5,
   "id": "3f0d0137-52b0-47a8-81a8-11a90a010798",
   "metadata": {},
   "outputs": [],
   "source": [
    "# here is the question; type over this to ask something new\n",
    "\n",
    "question = \"\"\"\n",
    "I am an intermediate Python developer and have been a manager of a technical support team for 3 years. I want to transition into a more technical role where I manage technical professionals, ideally as a software engineering manager or data scientist. I have experience in Python, SQL from 20 years ago, and some machine learning concepts. What steps should I take to make this transition successfully? Provide a detailed plan with resources and timelines.\n",
    "\"\"\""
   ]
  },
  {
   "cell_type": "code",
   "execution_count": 7,
   "id": "60ce7000-a4a5-4cce-a261-e75ef45063b4",
   "metadata": {},
   "outputs": [
    {
     "data": {
      "text/markdown": [
       "Transitioning into a technical management role, such as a Software Engineering Manager or Data Scientist, requires a balance of strengthening technical skills and honing leadership capabilities. Given your experience as a Python developer and a manager, you're in a good position to make this shift. Here's a detailed plan to help facilitate your transition over the next 6-12 months, with suggested resources and timelines.\n",
       "\n",
       "### **Phase 1: Skill Assessment and Goal Setting (Weeks 1-2)**\n",
       "\n",
       "1. **Self-Assessment:**\n",
       "   - Identify your technical and management strengths. Reflect on your experiences in Python development and technical support management.\n",
       "   - Assess your current knowledge of machine learning, data science concepts, and software engineering principles.\n",
       "\n",
       "2. **Define Your Goals:**\n",
       "   - Decide if you prefer to transition into a Software Engineering Manager or a Data Scientist role. This will guide your learning and development path.\n",
       "\n",
       "### **Phase 2: Technical Skill Enhancement (Weeks 3-20)**\n",
       "\n",
       "#### **Software Engineering Manager Track:**\n",
       "\n",
       "1. **Strengthening Coding Skills: (Weeks 3-8)**\n",
       "   - **Resource:** \"Clean Code: A Handbook of Agile Software Craftsmanship\" by Robert C. Martin\n",
       "   - **Practice:** Solve problems on platforms like LeetCode (focus on medium to hard problems).\n",
       "\n",
       "2. **Understanding Software Design and Architecture: (Weeks 9-12)**\n",
       "   - **Resource:** \"Designing Data-Intensive Applications\" by Martin Kleppmann\n",
       "   - Take an online course on software architecture (e.g., Coursera’s Software Design and Architecture).\n",
       "\n",
       "3. **Agile Management: (Weeks 13-16)**\n",
       "   - **Resource:** \"Scrum: The Art of Doing Twice the Work in Half the Time\" by Jeff Sutherland\n",
       "   - **Certification:** Consider getting certified in Scrum or Agile practices (e.g., Certified ScrumMaster (CSM)).\n",
       "\n",
       "#### **Data Scientist Track:**\n",
       "\n",
       "1. **Revise SQL and Python for Data Science: (Weeks 3-6)**\n",
       "   - **Resource:** \"Python for Data Analysis\" by Wes McKinney\n",
       "   - **Practice:** Use SQLZoo and Kaggle datasets for SQL practice.\n",
       "\n",
       "2. **Learn Machine Learning and Statistical Analysis: (Weeks 7-16)**\n",
       "   - **Resource:** \"Hands-On Machine Learning with Scikit-Learn, Keras, and TensorFlow\" by Aurélien Géron\n",
       "   - **Online Course:** Complete the \"Machine Learning\" specialization on Coursera by Andrew Ng.\n",
       "\n",
       "3. **Data Visualization: (Weeks 17-20)**\n",
       "   - **Practice:** Explore data visualization libraries like Matplotlib, Seaborn, and Plotly.\n",
       "   - **Resource:** \"Storytelling with Data\" by Cole Nussbaumer Knaflic.\n",
       "\n",
       "### **Phase 3: Leadership Development (Weeks 21-28)**\n",
       "\n",
       "1. **Refine Your Management Style: (Weeks 21-24)**\n",
       "   - **Resource:** \"Radical Candor: Be a Kick-Ass Boss Without Losing Your Humanity\" by Kim Scott\n",
       "   - Attend workshops on leadership and coaching skills.\n",
       "\n",
       "2. **Team Management Practices: (Weeks 25-28)**\n",
       "   - Understand how to manage technical teams, project lifecycles, and conflict resolution.\n",
       "   - Enroll in courses or certifications on technical team management practices (e.g., PMI Agile Certified Practitioner).\n",
       "\n",
       "### **Phase 4: Networking and Real-world Application (Weeks 29-36)**\n",
       "\n",
       "1. **Networking: (Ongoing)**\n",
       "   - Join tech meetups, webinars, and workshops to connect with professionals in your desired field.\n",
       "   - Utilize LinkedIn to network with hiring managers and professionals working in roles you're aiming for.\n",
       "\n",
       "2. **Build a Portfolio: (Weeks 30-34)**\n",
       "   - Create projects that reflect your skills and interests. GitHub will be beneficial for showcasing these projects.\n",
       "   - For data science, consider creating a Kaggle profile with completed competitions or contribution to datasets.\n",
       "\n",
       "3. **Feedback and Improvement: (Week 35-36)**\n",
       "   - Solicit feedback from peers or mentors about your projects and skills.\n",
       "   - Revise your portfolio and projects based on the feedback received.\n",
       "\n",
       "### **Phase 5: Job Search and Interview Preparation (Weeks 37-40)**\n",
       "\n",
       "1. **Resume and Cover Letter: (Weeks 37-38)**\n",
       "   - Update your resume to reflect your new skills and experiences in management & technical areas.\n",
       "   - Tailor your cover letter to each job application emphasizing your technical expertise and leadership.\n",
       "\n",
       "2. **Interview Preparation: (Weeks 39-40)**\n",
       "   - Prepare for interviews by practicing commonly asked questions in your desired role. Use platforms like Pramp or interviewing.io for mock interviews.\n",
       "   - Review management and technical questions to articulate your experiences well.\n",
       "\n",
       "### **Optional Resources:**\n",
       "\n",
       "- **Online Courses:** Consider platforms like Coursera, edX, or Udacity for specific courses related to technical skills and management.\n",
       "- **Books & Blogs:** Regularly read industry-relevant blogs and books on leadership and technology trends.\n",
       "\n",
       "### **Final Thoughts**\n",
       "\n",
       "- Stay committed to your learning and adapt your plan every few weeks based on progress and feedback.\n",
       "- Remain open to interim roles that bridge your current experience and your target role.\n",
       "- Leveraging your existing management experience will be a great asset in interviews, so emphasize your ability to lead technical teams.\n",
       "\n",
       "--- \n",
       "\n",
       "By following this structured plan, you will gain the necessary skills and experiences needed for a successful transition into your desired technical management role. Good luck!"
      ],
      "text/plain": [
       "<IPython.core.display.Markdown object>"
      ]
     },
     "metadata": {},
     "output_type": "display_data"
    }
   ],
   "source": [
    "# Get gpt-4o-mini to answer, with streaming\n",
    "system_prompt = \"You are a career coach specializing in technical roles. Your job is to guide individuals in their career transitions, especially those moving into technical management or data science roles. Provide a detailed plan with resources and timelines for the user to follow.\"\n",
    "\n",
    "stream = openai.chat.completions.create(\n",
    "    model=MODEL,\n",
    "    messages=[\n",
    "        {\"role\": \"system\", \"content\": system_prompt},\n",
    "        {\"role\": \"user\", \"content\": question}\n",
    "    ],\n",
    "    stream=True\n",
    ")\n",
    "# Display the response in a streaming manner\n",
    "response = \"\"\n",
    "display_handle = display(Markdown(\"\"), display_id=True)\n",
    "for chunk in stream:\n",
    "        response += chunk.choices[0].delta.content or ''\n",
    "        response = response.replace(\"```\",\"\").replace(\"markdown\", \"\")\n",
    "        update_display(Markdown(response), display_id=display_handle.display_id)"
   ]
  },
  {
   "cell_type": "code",
   "execution_count": null,
   "id": "8f7c8ea8-4082-4ad0-8751-3301adcf6538",
   "metadata": {},
   "outputs": [],
   "source": [
    "# Get Llama 3.2 to answer"
   ]
  }
 ],
 "metadata": {
  "kernelspec": {
   "display_name": "llms",
   "language": "python",
   "name": "python3"
  },
  "language_info": {
   "codemirror_mode": {
    "name": "ipython",
    "version": 3
   },
   "file_extension": ".py",
   "mimetype": "text/x-python",
   "name": "python",
   "nbconvert_exporter": "python",
   "pygments_lexer": "ipython3",
   "version": "3.11.12"
  }
 },
 "nbformat": 4,
 "nbformat_minor": 5
}
