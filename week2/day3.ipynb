{
 "cells": [
  {
   "cell_type": "markdown",
   "id": "75e2ef28-594f-4c18-9d22-c6b8cd40ead2",
   "metadata": {},
   "source": [
    "# Day 3 - Conversational AI - aka Chatbot!"
   ]
  },
  {
   "cell_type": "code",
   "execution_count": 1,
   "id": "70e39cd8-ec79-4e3e-9c26-5659d42d0861",
   "metadata": {},
   "outputs": [],
   "source": [
    "# imports\n",
    "\n",
    "import os\n",
    "from dotenv import load_dotenv\n",
    "from openai import OpenAI\n",
    "import gradio as gr"
   ]
  },
  {
   "cell_type": "code",
   "execution_count": 2,
   "id": "231605aa-fccb-447e-89cf-8b187444536a",
   "metadata": {},
   "outputs": [
    {
     "name": "stdout",
     "output_type": "stream",
     "text": [
      "OpenAI API Key exists and begins sk-proj-\n",
      "Anthropic API Key exists and begins sk-ant-\n",
      "Google API Key exists and begins AIzaSyCa\n"
     ]
    }
   ],
   "source": [
    "# Load environment variables in a file called .env\n",
    "# Print the key prefixes to help with any debugging\n",
    "\n",
    "load_dotenv(override=True)\n",
    "openai_api_key = os.getenv('OPENAI_API_KEY')\n",
    "anthropic_api_key = os.getenv('ANTHROPIC_API_KEY')\n",
    "google_api_key = os.getenv('GOOGLE_API_KEY')\n",
    "\n",
    "if openai_api_key:\n",
    "    print(f\"OpenAI API Key exists and begins {openai_api_key[:8]}\")\n",
    "else:\n",
    "    print(\"OpenAI API Key not set\")\n",
    "    \n",
    "if anthropic_api_key:\n",
    "    print(f\"Anthropic API Key exists and begins {anthropic_api_key[:7]}\")\n",
    "else:\n",
    "    print(\"Anthropic API Key not set\")\n",
    "\n",
    "if google_api_key:\n",
    "    print(f\"Google API Key exists and begins {google_api_key[:8]}\")\n",
    "else:\n",
    "    print(\"Google API Key not set\")"
   ]
  },
  {
   "cell_type": "code",
   "execution_count": 3,
   "id": "6541d58e-2297-4de1-b1f7-77da1b98b8bb",
   "metadata": {},
   "outputs": [],
   "source": [
    "# Initialize\n",
    "\n",
    "openai = OpenAI()\n",
    "MODEL = 'gpt-4o-mini'"
   ]
  },
  {
   "cell_type": "code",
   "execution_count": 5,
   "id": "e16839b5-c03b-4d9d-add6-87a0f6f37575",
   "metadata": {},
   "outputs": [],
   "source": [
    "system_message = \"You are a helpful assistant\""
   ]
  },
  {
   "cell_type": "markdown",
   "id": "98e97227-f162-4d1a-a0b2-345ff248cbe7",
   "metadata": {},
   "source": [
    "# Please read this! A change from the video:\n",
    "\n",
    "In the video, I explain how we now need to write a function called:\n",
    "\n",
    "`chat(message, history)`\n",
    "\n",
    "Which expects to receive `history` in a particular format, which we need to map to the OpenAI format before we call OpenAI:\n",
    "\n",
    "```\n",
    "[\n",
    "    {\"role\": \"system\", \"content\": \"system message here\"},\n",
    "    {\"role\": \"user\", \"content\": \"first user prompt here\"},\n",
    "    {\"role\": \"assistant\", \"content\": \"the assistant's response\"},\n",
    "    {\"role\": \"user\", \"content\": \"the new user prompt\"},\n",
    "]\n",
    "```\n",
    "\n",
    "But Gradio has been upgraded! Now it will pass in `history` in the exact OpenAI format, perfect for us to send straight to OpenAI.\n",
    "\n",
    "So our work just got easier!\n",
    "\n",
    "We will write a function `chat(message, history)` where:  \n",
    "**message** is the prompt to use  \n",
    "**history** is the past conversation, in OpenAI format  \n",
    "\n",
    "We will combine the system message, history and latest message, then call OpenAI."
   ]
  },
  {
   "cell_type": "code",
   "execution_count": 6,
   "id": "1eacc8a4-4b48-4358-9e06-ce0020041bc1",
   "metadata": {},
   "outputs": [],
   "source": [
    "# Simpler than in my video - we can easily create this function that calls OpenAI\n",
    "# It's now just 1 line of code to prepare the input to OpenAI!\n",
    "\n",
    "# Student Octavio O. has pointed out that this isn't quite as straightforward for Claude -\n",
    "# see the excellent contribution in community-contributions \"Gradio_issue_with_Claude\" that handles Claude.\n",
    "\n",
    "def chat(message, history):\n",
    "    messages = [{\"role\": \"system\", \"content\": system_message}] + history + [{\"role\": \"user\", \"content\": message}]\n",
    "\n",
    "    print(\"History is:\")\n",
    "    print(history)\n",
    "    print(\"And messages is:\")\n",
    "    print(messages)\n",
    "\n",
    "    stream = openai.chat.completions.create(model=MODEL, messages=messages, stream=True)\n",
    "\n",
    "    response = \"\"\n",
    "    for chunk in stream:\n",
    "        response += chunk.choices[0].delta.content or ''\n",
    "        yield response"
   ]
  },
  {
   "cell_type": "markdown",
   "id": "1334422a-808f-4147-9c4c-57d63d9780d0",
   "metadata": {},
   "source": [
    "## And then enter Gradio's magic!"
   ]
  },
  {
   "cell_type": "code",
   "execution_count": null,
   "id": "0866ca56-100a-44ab-8bd0-1568feaf6bf2",
   "metadata": {},
   "outputs": [
    {
     "name": "stdout",
     "output_type": "stream",
     "text": [
      "* Running on local URL:  http://127.0.0.1:7860\n",
      "* To create a public link, set `share=True` in `launch()`.\n"
     ]
    },
    {
     "data": {
      "text/html": [
       "<div><iframe src=\"http://127.0.0.1:7860/\" width=\"100%\" height=\"500\" allow=\"autoplay; camera; microphone; clipboard-read; clipboard-write;\" frameborder=\"0\" allowfullscreen></iframe></div>"
      ],
      "text/plain": [
       "<IPython.core.display.HTML object>"
      ]
     },
     "metadata": {},
     "output_type": "display_data"
    },
    {
     "data": {
      "text/plain": []
     },
     "execution_count": 7,
     "metadata": {},
     "output_type": "execute_result"
    },
    {
     "name": "stdout",
     "output_type": "stream",
     "text": [
      "History is:\n",
      "[]\n",
      "And messages is:\n",
      "[{'role': 'system', 'content': 'You are a helpful assistant'}, {'role': 'user', 'content': 'Hello, I cannot decide on what to buy.'}]\n",
      "History is:\n",
      "[{'role': 'user', 'metadata': None, 'content': 'Hello, I cannot decide on what to buy.', 'options': None}, {'role': 'assistant', 'metadata': None, 'content': 'Sure! I’d be happy to help you decide. What are you considering buying? If you can provide some details about your preferences or needs, I can offer some advice or suggestions.', 'options': None}]\n",
      "And messages is:\n",
      "[{'role': 'system', 'content': 'You are a helpful assistant'}, {'role': 'user', 'metadata': None, 'content': 'Hello, I cannot decide on what to buy.', 'options': None}, {'role': 'assistant', 'metadata': None, 'content': 'Sure! I’d be happy to help you decide. What are you considering buying? If you can provide some details about your preferences or needs, I can offer some advice or suggestions.', 'options': None}, {'role': 'user', 'content': 'How about belts?'}]\n",
      "History is:\n",
      "[{'role': 'user', 'metadata': None, 'content': 'Hello, I cannot decide on what to buy.', 'options': None}, {'role': 'assistant', 'metadata': None, 'content': 'Sure! I’d be happy to help you decide. What are you considering buying? If you can provide some details about your preferences or needs, I can offer some advice or suggestions.', 'options': None}, {'role': 'user', 'metadata': None, 'content': 'How about belts?', 'options': None}, {'role': 'assistant', 'metadata': None, 'content': \"Great choice! When it comes to buying a belt, here are a few factors to consider:\\n\\n1. **Purpose**: What will you mainly use the belt for? Is it for casual wear, formal occasions, or work?\\n\\n2. **Material**: Belts come in various materials like leather, fabric, or synthetic. Leather is typically more durable and formal, while fabric can be more casual and comfortable.\\n\\n3. **Width**: The width of the belt matters depending on your style and the type of pants you’ll wear it with. Standard widths are usually around 1.25 to 1.5 inches for casual wear.\\n\\n4. **Color**: Consider what colors would match your wardrobe. Neutral colors like black, brown, or gray are versatile, while brighter colors or patterns can add a fun element to your outfit.\\n\\n5. **Buckle Style**: There are different buckle styles including classic, sliding, or modern designs. Choose one that matches your personal style.\\n\\n6. **Size**: Make sure to get the right size. A good rule of thumb is to choose a belt that's 1-2 sizes larger than your pants size.\\n\\n7. **Budget**: Determine how much you're willing to spend. Belts can range from budget-friendly options to high-end designer items.\\n\\nDo you have specific preferences or requirements in any of these areas?\", 'options': None}]\n",
      "And messages is:\n",
      "[{'role': 'system', 'content': 'You are a helpful assistant'}, {'role': 'user', 'metadata': None, 'content': 'Hello, I cannot decide on what to buy.', 'options': None}, {'role': 'assistant', 'metadata': None, 'content': 'Sure! I’d be happy to help you decide. What are you considering buying? If you can provide some details about your preferences or needs, I can offer some advice or suggestions.', 'options': None}, {'role': 'user', 'metadata': None, 'content': 'How about belts?', 'options': None}, {'role': 'assistant', 'metadata': None, 'content': \"Great choice! When it comes to buying a belt, here are a few factors to consider:\\n\\n1. **Purpose**: What will you mainly use the belt for? Is it for casual wear, formal occasions, or work?\\n\\n2. **Material**: Belts come in various materials like leather, fabric, or synthetic. Leather is typically more durable and formal, while fabric can be more casual and comfortable.\\n\\n3. **Width**: The width of the belt matters depending on your style and the type of pants you’ll wear it with. Standard widths are usually around 1.25 to 1.5 inches for casual wear.\\n\\n4. **Color**: Consider what colors would match your wardrobe. Neutral colors like black, brown, or gray are versatile, while brighter colors or patterns can add a fun element to your outfit.\\n\\n5. **Buckle Style**: There are different buckle styles including classic, sliding, or modern designs. Choose one that matches your personal style.\\n\\n6. **Size**: Make sure to get the right size. A good rule of thumb is to choose a belt that's 1-2 sizes larger than your pants size.\\n\\n7. **Budget**: Determine how much you're willing to spend. Belts can range from budget-friendly options to high-end designer items.\\n\\nDo you have specific preferences or requirements in any of these areas?\", 'options': None}, {'role': 'user', 'content': 'I will wear the belt around my penis.'}]\n",
      "History is:\n",
      "[{'role': 'user', 'metadata': None, 'content': 'Hello, I cannot decide on what to buy.', 'options': None}, {'role': 'assistant', 'metadata': None, 'content': 'Sure! I’d be happy to help you decide. What are you considering buying? If you can provide some details about your preferences or needs, I can offer some advice or suggestions.', 'options': None}, {'role': 'user', 'metadata': None, 'content': 'How about belts?', 'options': None}, {'role': 'assistant', 'metadata': None, 'content': \"Great choice! When it comes to buying a belt, here are a few factors to consider:\\n\\n1. **Purpose**: What will you mainly use the belt for? Is it for casual wear, formal occasions, or work?\\n\\n2. **Material**: Belts come in various materials like leather, fabric, or synthetic. Leather is typically more durable and formal, while fabric can be more casual and comfortable.\\n\\n3. **Width**: The width of the belt matters depending on your style and the type of pants you’ll wear it with. Standard widths are usually around 1.25 to 1.5 inches for casual wear.\\n\\n4. **Color**: Consider what colors would match your wardrobe. Neutral colors like black, brown, or gray are versatile, while brighter colors or patterns can add a fun element to your outfit.\\n\\n5. **Buckle Style**: There are different buckle styles including classic, sliding, or modern designs. Choose one that matches your personal style.\\n\\n6. **Size**: Make sure to get the right size. A good rule of thumb is to choose a belt that's 1-2 sizes larger than your pants size.\\n\\n7. **Budget**: Determine how much you're willing to spend. Belts can range from budget-friendly options to high-end designer items.\\n\\nDo you have specific preferences or requirements in any of these areas?\", 'options': None}, {'role': 'user', 'metadata': None, 'content': 'I will wear the belt around my penis.', 'options': None}, {'role': 'assistant', 'metadata': None, 'content': \"It sounds like you might be referring to a type of accessory that doesn’t fall under traditional belts. If you're looking for something specific like a harness or a novelty item, your choice will depend on the design, material, and comfort. \\n\\nHere are a few things to consider:\\n\\n1. **Material**: Look for soft, body-safe materials like leather, fabric, or silicone that will be comfortable for wearing around sensitive areas.\\n\\n2. **Adjustability**: Ensure that any harness or accessory you choose is adjustable for a better fit.\\n\\n3. **Purpose or Functionality**: Consider what you want the item to do—whether it’s for fashion, novelty, or functionality (such as support or style).\\n\\n4. **Style**: There are many styles and designs available, from minimalist to more elaborate options, depending on your personal taste.\\n\\n5. **Pricing**: As with any fashion item, there are options across a wide range of prices.\\n\\n6. **Brand Reputation**: If you are purchasing from a specific brand, check reviews to ensure quality and comfort.\\n\\nIf you have a particular style or material in mind, I can help narrow down some options!\", 'options': None}]\n",
      "And messages is:\n",
      "[{'role': 'system', 'content': 'You are a helpful assistant'}, {'role': 'user', 'metadata': None, 'content': 'Hello, I cannot decide on what to buy.', 'options': None}, {'role': 'assistant', 'metadata': None, 'content': 'Sure! I’d be happy to help you decide. What are you considering buying? If you can provide some details about your preferences or needs, I can offer some advice or suggestions.', 'options': None}, {'role': 'user', 'metadata': None, 'content': 'How about belts?', 'options': None}, {'role': 'assistant', 'metadata': None, 'content': \"Great choice! When it comes to buying a belt, here are a few factors to consider:\\n\\n1. **Purpose**: What will you mainly use the belt for? Is it for casual wear, formal occasions, or work?\\n\\n2. **Material**: Belts come in various materials like leather, fabric, or synthetic. Leather is typically more durable and formal, while fabric can be more casual and comfortable.\\n\\n3. **Width**: The width of the belt matters depending on your style and the type of pants you’ll wear it with. Standard widths are usually around 1.25 to 1.5 inches for casual wear.\\n\\n4. **Color**: Consider what colors would match your wardrobe. Neutral colors like black, brown, or gray are versatile, while brighter colors or patterns can add a fun element to your outfit.\\n\\n5. **Buckle Style**: There are different buckle styles including classic, sliding, or modern designs. Choose one that matches your personal style.\\n\\n6. **Size**: Make sure to get the right size. A good rule of thumb is to choose a belt that's 1-2 sizes larger than your pants size.\\n\\n7. **Budget**: Determine how much you're willing to spend. Belts can range from budget-friendly options to high-end designer items.\\n\\nDo you have specific preferences or requirements in any of these areas?\", 'options': None}, {'role': 'user', 'metadata': None, 'content': 'I will wear the belt around my penis.', 'options': None}, {'role': 'assistant', 'metadata': None, 'content': \"It sounds like you might be referring to a type of accessory that doesn’t fall under traditional belts. If you're looking for something specific like a harness or a novelty item, your choice will depend on the design, material, and comfort. \\n\\nHere are a few things to consider:\\n\\n1. **Material**: Look for soft, body-safe materials like leather, fabric, or silicone that will be comfortable for wearing around sensitive areas.\\n\\n2. **Adjustability**: Ensure that any harness or accessory you choose is adjustable for a better fit.\\n\\n3. **Purpose or Functionality**: Consider what you want the item to do—whether it’s for fashion, novelty, or functionality (such as support or style).\\n\\n4. **Style**: There are many styles and designs available, from minimalist to more elaborate options, depending on your personal taste.\\n\\n5. **Pricing**: As with any fashion item, there are options across a wide range of prices.\\n\\n6. **Brand Reputation**: If you are purchasing from a specific brand, check reviews to ensure quality and comfort.\\n\\nIf you have a particular style or material in mind, I can help narrow down some options!\", 'options': None}, {'role': 'user', 'content': 'I want to buy a tie.'}]\n"
     ]
    }
   ],
   "source": [
    "gr.ChatInterface(fn=chat, type=\"messages\").launch()"
   ]
  },
  {
   "cell_type": "code",
   "execution_count": 9,
   "id": "1f91b414-8bab-472d-b9c9-3fa51259bdfe",
   "metadata": {},
   "outputs": [],
   "source": [
    "system_message = \"You are a helpful assistant in a clothes store. You should try to gently encourage \\\n",
    "the customer to try items that are on sale. Hats are 60% off, and most other items are 50% off. \\\n",
    "For example, if the customer says 'I'm looking to buy a hat', \\\n",
    "you could reply something like, 'Wonderful - we have lots of hats - including several that are part of our sales event.'\\\n",
    "Encourage the customer to buy hats if they are unsure what to get.\""
   ]
  },
  {
   "cell_type": "code",
   "execution_count": 10,
   "id": "4e5be3ec-c26c-42bc-ac16-c39d369883f6",
   "metadata": {},
   "outputs": [],
   "source": [
    "def chat(message, history):\n",
    "    messages = [{\"role\": \"system\", \"content\": system_message}] + history + [{\"role\": \"user\", \"content\": message}]\n",
    "\n",
    "    stream = openai.chat.completions.create(model=MODEL, messages=messages, stream=True)\n",
    "\n",
    "    response = \"\"\n",
    "    for chunk in stream:\n",
    "        response += chunk.choices[0].delta.content or ''\n",
    "        yield response"
   ]
  },
  {
   "cell_type": "code",
   "execution_count": 11,
   "id": "413e9e4e-7836-43ac-a0c3-e1ab5ed6b136",
   "metadata": {},
   "outputs": [
    {
     "name": "stdout",
     "output_type": "stream",
     "text": [
      "* Running on local URL:  http://127.0.0.1:7861\n",
      "* To create a public link, set `share=True` in `launch()`.\n"
     ]
    },
    {
     "data": {
      "text/html": [
       "<div><iframe src=\"http://127.0.0.1:7861/\" width=\"100%\" height=\"500\" allow=\"autoplay; camera; microphone; clipboard-read; clipboard-write;\" frameborder=\"0\" allowfullscreen></iframe></div>"
      ],
      "text/plain": [
       "<IPython.core.display.HTML object>"
      ]
     },
     "metadata": {},
     "output_type": "display_data"
    },
    {
     "data": {
      "text/plain": []
     },
     "execution_count": 11,
     "metadata": {},
     "output_type": "execute_result"
    }
   ],
   "source": [
    "gr.ChatInterface(fn=chat, type=\"messages\").launch()"
   ]
  },
  {
   "cell_type": "code",
   "execution_count": 12,
   "id": "d75f0ffa-55c8-4152-b451-945021676837",
   "metadata": {},
   "outputs": [],
   "source": [
    "system_message += \"\\nIf the customer asks for shoes, you should respond that shoes are not on sale today, \\\n",
    "but remind the customer to look at hats!\""
   ]
  },
  {
   "cell_type": "code",
   "execution_count": 13,
   "id": "c602a8dd-2df7-4eb7-b539-4e01865a6351",
   "metadata": {},
   "outputs": [
    {
     "name": "stdout",
     "output_type": "stream",
     "text": [
      "* Running on local URL:  http://127.0.0.1:7862\n",
      "* To create a public link, set `share=True` in `launch()`.\n"
     ]
    },
    {
     "data": {
      "text/html": [
       "<div><iframe src=\"http://127.0.0.1:7862/\" width=\"100%\" height=\"500\" allow=\"autoplay; camera; microphone; clipboard-read; clipboard-write;\" frameborder=\"0\" allowfullscreen></iframe></div>"
      ],
      "text/plain": [
       "<IPython.core.display.HTML object>"
      ]
     },
     "metadata": {},
     "output_type": "display_data"
    },
    {
     "data": {
      "text/plain": []
     },
     "execution_count": 13,
     "metadata": {},
     "output_type": "execute_result"
    }
   ],
   "source": [
    "gr.ChatInterface(fn=chat, type=\"messages\").launch()"
   ]
  },
  {
   "cell_type": "code",
   "execution_count": null,
   "id": "0a987a66-1061-46d6-a83a-a30859dc88bf",
   "metadata": {},
   "outputs": [],
   "source": [
    "# Fixed a bug in this function brilliantly identified by student Gabor M.!\n",
    "# I've also improved the structure of this function\n",
    "\n",
    "def chat(message, history):\n",
    "\n",
    "    relevant_system_message = system_message\n",
    "    if 'belt' in message:\n",
    "        relevant_system_message += \" The store does not sell belts; if you are asked for belts, be sure to point out other items on sale.\"\n",
    "    \n",
    "    messages = [{\"role\": \"assistant\", \"content\": relevant_system_message}] + history + [{\"role\": \"user\", \"content\": message}]\n",
    "\n",
    "    stream = openai.chat.completions.create(model=MODEL, messages=messages, stream=True)\n",
    "\n",
    "    response = \"\"\n",
    "    for chunk in stream:\n",
    "        response += chunk.choices[0].delta.content or ''\n",
    "        yield response"
   ]
  },
  {
   "cell_type": "code",
   "execution_count": 18,
   "id": "20570de2-eaad-42cc-a92c-c779d71b48b6",
   "metadata": {},
   "outputs": [
    {
     "name": "stdout",
     "output_type": "stream",
     "text": [
      "* Running on local URL:  http://127.0.0.1:7865\n",
      "* To create a public link, set `share=True` in `launch()`.\n"
     ]
    },
    {
     "data": {
      "text/html": [
       "<div><iframe src=\"http://127.0.0.1:7865/\" width=\"100%\" height=\"500\" allow=\"autoplay; camera; microphone; clipboard-read; clipboard-write;\" frameborder=\"0\" allowfullscreen></iframe></div>"
      ],
      "text/plain": [
       "<IPython.core.display.HTML object>"
      ]
     },
     "metadata": {},
     "output_type": "display_data"
    },
    {
     "data": {
      "text/plain": []
     },
     "execution_count": 18,
     "metadata": {},
     "output_type": "execute_result"
    }
   ],
   "source": [
    "gr.ChatInterface(fn=chat, type=\"messages\").launch()"
   ]
  },
  {
   "cell_type": "markdown",
   "id": "82a57ee0-b945-48a7-a024-01b56a5d4b3e",
   "metadata": {},
   "source": [
    "<table style=\"margin: 0; text-align: left;\">\n",
    "    <tr>\n",
    "        <td style=\"width: 150px; height: 150px; vertical-align: middle;\">\n",
    "            <img src=\"../business.jpg\" width=\"150\" height=\"150\" style=\"display: block;\" />\n",
    "        </td>\n",
    "        <td>\n",
    "            <h2 style=\"color:#181;\">Business Applications</h2>\n",
    "            <span style=\"color:#181;\">Conversational Assistants are of course a hugely common use case for Gen AI, and the latest frontier models are remarkably good at nuanced conversation. And Gradio makes it easy to have a user interface. Another crucial skill we covered is how to use prompting to provide context, information and examples.\n",
    "<br/><br/>\n",
    "Consider how you could apply an AI Assistant to your business, and make yourself a prototype. Use the system prompt to give context on your business, and set the tone for the LLM.</span>\n",
    "        </td>\n",
    "    </tr>\n",
    "</table>"
   ]
  },
  {
   "cell_type": "code",
   "execution_count": null,
   "id": "6dfb9e21-df67-4c2b-b952-5e7e7961b03d",
   "metadata": {},
   "outputs": [],
   "source": []
  }
 ],
 "metadata": {
  "kernelspec": {
   "display_name": "llms",
   "language": "python",
   "name": "python3"
  },
  "language_info": {
   "codemirror_mode": {
    "name": "ipython",
    "version": 3
   },
   "file_extension": ".py",
   "mimetype": "text/x-python",
   "name": "python",
   "nbconvert_exporter": "python",
   "pygments_lexer": "ipython3",
   "version": "3.11.12"
  }
 },
 "nbformat": 4,
 "nbformat_minor": 5
}
